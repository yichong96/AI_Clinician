{
  "nbformat": 4,
  "nbformat_minor": 0,
  "metadata": {
    "colab": {
      "name": "BERT_Extractive_Summ.ipynb",
      "provenance": [],
      "authorship_tag": "ABX9TyPQ1Ha7ALpg8WMu1rZhmZ11",
      "include_colab_link": true
    },
    "kernelspec": {
      "name": "python3",
      "display_name": "Python 3"
    },
    "widgets": {
      "application/vnd.jupyter.widget-state+json": {
        "182d644a4b7d4d8bb22603e18febdf05": {
          "model_module": "@jupyter-widgets/controls",
          "model_name": "HBoxModel",
          "state": {
            "_view_name": "HBoxView",
            "_dom_classes": [],
            "_model_name": "HBoxModel",
            "_view_module": "@jupyter-widgets/controls",
            "_model_module_version": "1.5.0",
            "_view_count": null,
            "_view_module_version": "1.5.0",
            "box_style": "",
            "layout": "IPY_MODEL_906aec5ff6a14a61b217639600eb60ff",
            "_model_module": "@jupyter-widgets/controls",
            "children": [
              "IPY_MODEL_ca997771d85a4dc08cbe33ccc5889aaa",
              "IPY_MODEL_3067439788554f80a2c59edb784d7906"
            ]
          }
        },
        "906aec5ff6a14a61b217639600eb60ff": {
          "model_module": "@jupyter-widgets/base",
          "model_name": "LayoutModel",
          "state": {
            "_view_name": "LayoutView",
            "grid_template_rows": null,
            "right": null,
            "justify_content": null,
            "_view_module": "@jupyter-widgets/base",
            "overflow": null,
            "_model_module_version": "1.2.0",
            "_view_count": null,
            "flex_flow": null,
            "width": null,
            "min_width": null,
            "border": null,
            "align_items": null,
            "bottom": null,
            "_model_module": "@jupyter-widgets/base",
            "top": null,
            "grid_column": null,
            "overflow_y": null,
            "overflow_x": null,
            "grid_auto_flow": null,
            "grid_area": null,
            "grid_template_columns": null,
            "flex": null,
            "_model_name": "LayoutModel",
            "justify_items": null,
            "grid_row": null,
            "max_height": null,
            "align_content": null,
            "visibility": null,
            "align_self": null,
            "height": null,
            "min_height": null,
            "padding": null,
            "grid_auto_rows": null,
            "grid_gap": null,
            "max_width": null,
            "order": null,
            "_view_module_version": "1.2.0",
            "grid_template_areas": null,
            "object_position": null,
            "object_fit": null,
            "grid_auto_columns": null,
            "margin": null,
            "display": null,
            "left": null
          }
        },
        "ca997771d85a4dc08cbe33ccc5889aaa": {
          "model_module": "@jupyter-widgets/controls",
          "model_name": "FloatProgressModel",
          "state": {
            "_view_name": "ProgressView",
            "style": "IPY_MODEL_52f57b4f0cbd43c19e89634328935fa8",
            "_dom_classes": [],
            "description": "Downloading: 100%",
            "_model_name": "FloatProgressModel",
            "bar_style": "success",
            "max": 433,
            "_view_module": "@jupyter-widgets/controls",
            "_model_module_version": "1.5.0",
            "value": 433,
            "_view_count": null,
            "_view_module_version": "1.5.0",
            "orientation": "horizontal",
            "min": 0,
            "description_tooltip": null,
            "_model_module": "@jupyter-widgets/controls",
            "layout": "IPY_MODEL_1983ecb2de9c4c2290a66833e6f848bf"
          }
        },
        "3067439788554f80a2c59edb784d7906": {
          "model_module": "@jupyter-widgets/controls",
          "model_name": "HTMLModel",
          "state": {
            "_view_name": "HTMLView",
            "style": "IPY_MODEL_e6f530aa009749efa502a95bdf320cc1",
            "_dom_classes": [],
            "description": "",
            "_model_name": "HTMLModel",
            "placeholder": "​",
            "_view_module": "@jupyter-widgets/controls",
            "_model_module_version": "1.5.0",
            "value": " 433/433 [00:12&lt;00:00, 33.4B/s]",
            "_view_count": null,
            "_view_module_version": "1.5.0",
            "description_tooltip": null,
            "_model_module": "@jupyter-widgets/controls",
            "layout": "IPY_MODEL_54773f5369f946a0b93e4b2c040cef64"
          }
        },
        "52f57b4f0cbd43c19e89634328935fa8": {
          "model_module": "@jupyter-widgets/controls",
          "model_name": "ProgressStyleModel",
          "state": {
            "_view_name": "StyleView",
            "_model_name": "ProgressStyleModel",
            "description_width": "initial",
            "_view_module": "@jupyter-widgets/base",
            "_model_module_version": "1.5.0",
            "_view_count": null,
            "_view_module_version": "1.2.0",
            "bar_color": null,
            "_model_module": "@jupyter-widgets/controls"
          }
        },
        "1983ecb2de9c4c2290a66833e6f848bf": {
          "model_module": "@jupyter-widgets/base",
          "model_name": "LayoutModel",
          "state": {
            "_view_name": "LayoutView",
            "grid_template_rows": null,
            "right": null,
            "justify_content": null,
            "_view_module": "@jupyter-widgets/base",
            "overflow": null,
            "_model_module_version": "1.2.0",
            "_view_count": null,
            "flex_flow": null,
            "width": null,
            "min_width": null,
            "border": null,
            "align_items": null,
            "bottom": null,
            "_model_module": "@jupyter-widgets/base",
            "top": null,
            "grid_column": null,
            "overflow_y": null,
            "overflow_x": null,
            "grid_auto_flow": null,
            "grid_area": null,
            "grid_template_columns": null,
            "flex": null,
            "_model_name": "LayoutModel",
            "justify_items": null,
            "grid_row": null,
            "max_height": null,
            "align_content": null,
            "visibility": null,
            "align_self": null,
            "height": null,
            "min_height": null,
            "padding": null,
            "grid_auto_rows": null,
            "grid_gap": null,
            "max_width": null,
            "order": null,
            "_view_module_version": "1.2.0",
            "grid_template_areas": null,
            "object_position": null,
            "object_fit": null,
            "grid_auto_columns": null,
            "margin": null,
            "display": null,
            "left": null
          }
        },
        "e6f530aa009749efa502a95bdf320cc1": {
          "model_module": "@jupyter-widgets/controls",
          "model_name": "DescriptionStyleModel",
          "state": {
            "_view_name": "StyleView",
            "_model_name": "DescriptionStyleModel",
            "description_width": "",
            "_view_module": "@jupyter-widgets/base",
            "_model_module_version": "1.5.0",
            "_view_count": null,
            "_view_module_version": "1.2.0",
            "_model_module": "@jupyter-widgets/controls"
          }
        },
        "54773f5369f946a0b93e4b2c040cef64": {
          "model_module": "@jupyter-widgets/base",
          "model_name": "LayoutModel",
          "state": {
            "_view_name": "LayoutView",
            "grid_template_rows": null,
            "right": null,
            "justify_content": null,
            "_view_module": "@jupyter-widgets/base",
            "overflow": null,
            "_model_module_version": "1.2.0",
            "_view_count": null,
            "flex_flow": null,
            "width": null,
            "min_width": null,
            "border": null,
            "align_items": null,
            "bottom": null,
            "_model_module": "@jupyter-widgets/base",
            "top": null,
            "grid_column": null,
            "overflow_y": null,
            "overflow_x": null,
            "grid_auto_flow": null,
            "grid_area": null,
            "grid_template_columns": null,
            "flex": null,
            "_model_name": "LayoutModel",
            "justify_items": null,
            "grid_row": null,
            "max_height": null,
            "align_content": null,
            "visibility": null,
            "align_self": null,
            "height": null,
            "min_height": null,
            "padding": null,
            "grid_auto_rows": null,
            "grid_gap": null,
            "max_width": null,
            "order": null,
            "_view_module_version": "1.2.0",
            "grid_template_areas": null,
            "object_position": null,
            "object_fit": null,
            "grid_auto_columns": null,
            "margin": null,
            "display": null,
            "left": null
          }
        },
        "e3cbd3410838406f873a3d32d27df457": {
          "model_module": "@jupyter-widgets/controls",
          "model_name": "HBoxModel",
          "state": {
            "_view_name": "HBoxView",
            "_dom_classes": [],
            "_model_name": "HBoxModel",
            "_view_module": "@jupyter-widgets/controls",
            "_model_module_version": "1.5.0",
            "_view_count": null,
            "_view_module_version": "1.5.0",
            "box_style": "",
            "layout": "IPY_MODEL_d1ac4320a71c4e45adc1df7a7f88f760",
            "_model_module": "@jupyter-widgets/controls",
            "children": [
              "IPY_MODEL_3ff456495eda4835a1b3187ca9df7a6b",
              "IPY_MODEL_0c1318408fe04e0d8c168dbf54e49117"
            ]
          }
        },
        "d1ac4320a71c4e45adc1df7a7f88f760": {
          "model_module": "@jupyter-widgets/base",
          "model_name": "LayoutModel",
          "state": {
            "_view_name": "LayoutView",
            "grid_template_rows": null,
            "right": null,
            "justify_content": null,
            "_view_module": "@jupyter-widgets/base",
            "overflow": null,
            "_model_module_version": "1.2.0",
            "_view_count": null,
            "flex_flow": null,
            "width": null,
            "min_width": null,
            "border": null,
            "align_items": null,
            "bottom": null,
            "_model_module": "@jupyter-widgets/base",
            "top": null,
            "grid_column": null,
            "overflow_y": null,
            "overflow_x": null,
            "grid_auto_flow": null,
            "grid_area": null,
            "grid_template_columns": null,
            "flex": null,
            "_model_name": "LayoutModel",
            "justify_items": null,
            "grid_row": null,
            "max_height": null,
            "align_content": null,
            "visibility": null,
            "align_self": null,
            "height": null,
            "min_height": null,
            "padding": null,
            "grid_auto_rows": null,
            "grid_gap": null,
            "max_width": null,
            "order": null,
            "_view_module_version": "1.2.0",
            "grid_template_areas": null,
            "object_position": null,
            "object_fit": null,
            "grid_auto_columns": null,
            "margin": null,
            "display": null,
            "left": null
          }
        },
        "3ff456495eda4835a1b3187ca9df7a6b": {
          "model_module": "@jupyter-widgets/controls",
          "model_name": "FloatProgressModel",
          "state": {
            "_view_name": "ProgressView",
            "style": "IPY_MODEL_0d7793ccba57450d84afc966daa712de",
            "_dom_classes": [],
            "description": "Downloading: 100%",
            "_model_name": "FloatProgressModel",
            "bar_style": "success",
            "max": 440473133,
            "_view_module": "@jupyter-widgets/controls",
            "_model_module_version": "1.5.0",
            "value": 440473133,
            "_view_count": null,
            "_view_module_version": "1.5.0",
            "orientation": "horizontal",
            "min": 0,
            "description_tooltip": null,
            "_model_module": "@jupyter-widgets/controls",
            "layout": "IPY_MODEL_e5119016486b466bbbbb0bc96d870b7f"
          }
        },
        "0c1318408fe04e0d8c168dbf54e49117": {
          "model_module": "@jupyter-widgets/controls",
          "model_name": "HTMLModel",
          "state": {
            "_view_name": "HTMLView",
            "style": "IPY_MODEL_d0d0a934843e473684f2ba9965dca2b4",
            "_dom_classes": [],
            "description": "",
            "_model_name": "HTMLModel",
            "placeholder": "​",
            "_view_module": "@jupyter-widgets/controls",
            "_model_module_version": "1.5.0",
            "value": " 440M/440M [00:12&lt;00:00, 34.8MB/s]",
            "_view_count": null,
            "_view_module_version": "1.5.0",
            "description_tooltip": null,
            "_model_module": "@jupyter-widgets/controls",
            "layout": "IPY_MODEL_3c105a693dc642379cdc286b101797d8"
          }
        },
        "0d7793ccba57450d84afc966daa712de": {
          "model_module": "@jupyter-widgets/controls",
          "model_name": "ProgressStyleModel",
          "state": {
            "_view_name": "StyleView",
            "_model_name": "ProgressStyleModel",
            "description_width": "initial",
            "_view_module": "@jupyter-widgets/base",
            "_model_module_version": "1.5.0",
            "_view_count": null,
            "_view_module_version": "1.2.0",
            "bar_color": null,
            "_model_module": "@jupyter-widgets/controls"
          }
        },
        "e5119016486b466bbbbb0bc96d870b7f": {
          "model_module": "@jupyter-widgets/base",
          "model_name": "LayoutModel",
          "state": {
            "_view_name": "LayoutView",
            "grid_template_rows": null,
            "right": null,
            "justify_content": null,
            "_view_module": "@jupyter-widgets/base",
            "overflow": null,
            "_model_module_version": "1.2.0",
            "_view_count": null,
            "flex_flow": null,
            "width": null,
            "min_width": null,
            "border": null,
            "align_items": null,
            "bottom": null,
            "_model_module": "@jupyter-widgets/base",
            "top": null,
            "grid_column": null,
            "overflow_y": null,
            "overflow_x": null,
            "grid_auto_flow": null,
            "grid_area": null,
            "grid_template_columns": null,
            "flex": null,
            "_model_name": "LayoutModel",
            "justify_items": null,
            "grid_row": null,
            "max_height": null,
            "align_content": null,
            "visibility": null,
            "align_self": null,
            "height": null,
            "min_height": null,
            "padding": null,
            "grid_auto_rows": null,
            "grid_gap": null,
            "max_width": null,
            "order": null,
            "_view_module_version": "1.2.0",
            "grid_template_areas": null,
            "object_position": null,
            "object_fit": null,
            "grid_auto_columns": null,
            "margin": null,
            "display": null,
            "left": null
          }
        },
        "d0d0a934843e473684f2ba9965dca2b4": {
          "model_module": "@jupyter-widgets/controls",
          "model_name": "DescriptionStyleModel",
          "state": {
            "_view_name": "StyleView",
            "_model_name": "DescriptionStyleModel",
            "description_width": "",
            "_view_module": "@jupyter-widgets/base",
            "_model_module_version": "1.5.0",
            "_view_count": null,
            "_view_module_version": "1.2.0",
            "_model_module": "@jupyter-widgets/controls"
          }
        },
        "3c105a693dc642379cdc286b101797d8": {
          "model_module": "@jupyter-widgets/base",
          "model_name": "LayoutModel",
          "state": {
            "_view_name": "LayoutView",
            "grid_template_rows": null,
            "right": null,
            "justify_content": null,
            "_view_module": "@jupyter-widgets/base",
            "overflow": null,
            "_model_module_version": "1.2.0",
            "_view_count": null,
            "flex_flow": null,
            "width": null,
            "min_width": null,
            "border": null,
            "align_items": null,
            "bottom": null,
            "_model_module": "@jupyter-widgets/base",
            "top": null,
            "grid_column": null,
            "overflow_y": null,
            "overflow_x": null,
            "grid_auto_flow": null,
            "grid_area": null,
            "grid_template_columns": null,
            "flex": null,
            "_model_name": "LayoutModel",
            "justify_items": null,
            "grid_row": null,
            "max_height": null,
            "align_content": null,
            "visibility": null,
            "align_self": null,
            "height": null,
            "min_height": null,
            "padding": null,
            "grid_auto_rows": null,
            "grid_gap": null,
            "max_width": null,
            "order": null,
            "_view_module_version": "1.2.0",
            "grid_template_areas": null,
            "object_position": null,
            "object_fit": null,
            "grid_auto_columns": null,
            "margin": null,
            "display": null,
            "left": null
          }
        },
        "b0709c2f89a44d8797558bdc1b565bd4": {
          "model_module": "@jupyter-widgets/controls",
          "model_name": "HBoxModel",
          "state": {
            "_view_name": "HBoxView",
            "_dom_classes": [],
            "_model_name": "HBoxModel",
            "_view_module": "@jupyter-widgets/controls",
            "_model_module_version": "1.5.0",
            "_view_count": null,
            "_view_module_version": "1.5.0",
            "box_style": "",
            "layout": "IPY_MODEL_76e4ca612ec0446a88696e1901dcdaa8",
            "_model_module": "@jupyter-widgets/controls",
            "children": [
              "IPY_MODEL_285fc622a02d47afbb659faa83706fb8",
              "IPY_MODEL_7a3872fc71d44d8498f8ad0895aa189c"
            ]
          }
        },
        "76e4ca612ec0446a88696e1901dcdaa8": {
          "model_module": "@jupyter-widgets/base",
          "model_name": "LayoutModel",
          "state": {
            "_view_name": "LayoutView",
            "grid_template_rows": null,
            "right": null,
            "justify_content": null,
            "_view_module": "@jupyter-widgets/base",
            "overflow": null,
            "_model_module_version": "1.2.0",
            "_view_count": null,
            "flex_flow": null,
            "width": null,
            "min_width": null,
            "border": null,
            "align_items": null,
            "bottom": null,
            "_model_module": "@jupyter-widgets/base",
            "top": null,
            "grid_column": null,
            "overflow_y": null,
            "overflow_x": null,
            "grid_auto_flow": null,
            "grid_area": null,
            "grid_template_columns": null,
            "flex": null,
            "_model_name": "LayoutModel",
            "justify_items": null,
            "grid_row": null,
            "max_height": null,
            "align_content": null,
            "visibility": null,
            "align_self": null,
            "height": null,
            "min_height": null,
            "padding": null,
            "grid_auto_rows": null,
            "grid_gap": null,
            "max_width": null,
            "order": null,
            "_view_module_version": "1.2.0",
            "grid_template_areas": null,
            "object_position": null,
            "object_fit": null,
            "grid_auto_columns": null,
            "margin": null,
            "display": null,
            "left": null
          }
        },
        "285fc622a02d47afbb659faa83706fb8": {
          "model_module": "@jupyter-widgets/controls",
          "model_name": "FloatProgressModel",
          "state": {
            "_view_name": "ProgressView",
            "style": "IPY_MODEL_97c5fb010709448fa61f7c1ce0fa584f",
            "_dom_classes": [],
            "description": "Downloading: 100%",
            "_model_name": "FloatProgressModel",
            "bar_style": "success",
            "max": 231508,
            "_view_module": "@jupyter-widgets/controls",
            "_model_module_version": "1.5.0",
            "value": 231508,
            "_view_count": null,
            "_view_module_version": "1.5.0",
            "orientation": "horizontal",
            "min": 0,
            "description_tooltip": null,
            "_model_module": "@jupyter-widgets/controls",
            "layout": "IPY_MODEL_e30bae1ede804e19b1636eedc4bd8eef"
          }
        },
        "7a3872fc71d44d8498f8ad0895aa189c": {
          "model_module": "@jupyter-widgets/controls",
          "model_name": "HTMLModel",
          "state": {
            "_view_name": "HTMLView",
            "style": "IPY_MODEL_fbbe4572f8f74284a788c3860cf354c7",
            "_dom_classes": [],
            "description": "",
            "_model_name": "HTMLModel",
            "placeholder": "​",
            "_view_module": "@jupyter-widgets/controls",
            "_model_module_version": "1.5.0",
            "value": " 232k/232k [00:00&lt;00:00, 717kB/s]",
            "_view_count": null,
            "_view_module_version": "1.5.0",
            "description_tooltip": null,
            "_model_module": "@jupyter-widgets/controls",
            "layout": "IPY_MODEL_8e46ab856a864bd7b6d2714f7f3cbe95"
          }
        },
        "97c5fb010709448fa61f7c1ce0fa584f": {
          "model_module": "@jupyter-widgets/controls",
          "model_name": "ProgressStyleModel",
          "state": {
            "_view_name": "StyleView",
            "_model_name": "ProgressStyleModel",
            "description_width": "initial",
            "_view_module": "@jupyter-widgets/base",
            "_model_module_version": "1.5.0",
            "_view_count": null,
            "_view_module_version": "1.2.0",
            "bar_color": null,
            "_model_module": "@jupyter-widgets/controls"
          }
        },
        "e30bae1ede804e19b1636eedc4bd8eef": {
          "model_module": "@jupyter-widgets/base",
          "model_name": "LayoutModel",
          "state": {
            "_view_name": "LayoutView",
            "grid_template_rows": null,
            "right": null,
            "justify_content": null,
            "_view_module": "@jupyter-widgets/base",
            "overflow": null,
            "_model_module_version": "1.2.0",
            "_view_count": null,
            "flex_flow": null,
            "width": null,
            "min_width": null,
            "border": null,
            "align_items": null,
            "bottom": null,
            "_model_module": "@jupyter-widgets/base",
            "top": null,
            "grid_column": null,
            "overflow_y": null,
            "overflow_x": null,
            "grid_auto_flow": null,
            "grid_area": null,
            "grid_template_columns": null,
            "flex": null,
            "_model_name": "LayoutModel",
            "justify_items": null,
            "grid_row": null,
            "max_height": null,
            "align_content": null,
            "visibility": null,
            "align_self": null,
            "height": null,
            "min_height": null,
            "padding": null,
            "grid_auto_rows": null,
            "grid_gap": null,
            "max_width": null,
            "order": null,
            "_view_module_version": "1.2.0",
            "grid_template_areas": null,
            "object_position": null,
            "object_fit": null,
            "grid_auto_columns": null,
            "margin": null,
            "display": null,
            "left": null
          }
        },
        "fbbe4572f8f74284a788c3860cf354c7": {
          "model_module": "@jupyter-widgets/controls",
          "model_name": "DescriptionStyleModel",
          "state": {
            "_view_name": "StyleView",
            "_model_name": "DescriptionStyleModel",
            "description_width": "",
            "_view_module": "@jupyter-widgets/base",
            "_model_module_version": "1.5.0",
            "_view_count": null,
            "_view_module_version": "1.2.0",
            "_model_module": "@jupyter-widgets/controls"
          }
        },
        "8e46ab856a864bd7b6d2714f7f3cbe95": {
          "model_module": "@jupyter-widgets/base",
          "model_name": "LayoutModel",
          "state": {
            "_view_name": "LayoutView",
            "grid_template_rows": null,
            "right": null,
            "justify_content": null,
            "_view_module": "@jupyter-widgets/base",
            "overflow": null,
            "_model_module_version": "1.2.0",
            "_view_count": null,
            "flex_flow": null,
            "width": null,
            "min_width": null,
            "border": null,
            "align_items": null,
            "bottom": null,
            "_model_module": "@jupyter-widgets/base",
            "top": null,
            "grid_column": null,
            "overflow_y": null,
            "overflow_x": null,
            "grid_auto_flow": null,
            "grid_area": null,
            "grid_template_columns": null,
            "flex": null,
            "_model_name": "LayoutModel",
            "justify_items": null,
            "grid_row": null,
            "max_height": null,
            "align_content": null,
            "visibility": null,
            "align_self": null,
            "height": null,
            "min_height": null,
            "padding": null,
            "grid_auto_rows": null,
            "grid_gap": null,
            "max_width": null,
            "order": null,
            "_view_module_version": "1.2.0",
            "grid_template_areas": null,
            "object_position": null,
            "object_fit": null,
            "grid_auto_columns": null,
            "margin": null,
            "display": null,
            "left": null
          }
        },
        "6ee66be8df924b80bce0865e8016c4ea": {
          "model_module": "@jupyter-widgets/controls",
          "model_name": "HBoxModel",
          "state": {
            "_view_name": "HBoxView",
            "_dom_classes": [],
            "_model_name": "HBoxModel",
            "_view_module": "@jupyter-widgets/controls",
            "_model_module_version": "1.5.0",
            "_view_count": null,
            "_view_module_version": "1.5.0",
            "box_style": "",
            "layout": "IPY_MODEL_88ab205e41a647e2afb4206f3d711e8f",
            "_model_module": "@jupyter-widgets/controls",
            "children": [
              "IPY_MODEL_8b9935211fd64051b6574e88462001a9",
              "IPY_MODEL_24eadb5ac213457bbb6bfdc27f1fe7c6"
            ]
          }
        },
        "88ab205e41a647e2afb4206f3d711e8f": {
          "model_module": "@jupyter-widgets/base",
          "model_name": "LayoutModel",
          "state": {
            "_view_name": "LayoutView",
            "grid_template_rows": null,
            "right": null,
            "justify_content": null,
            "_view_module": "@jupyter-widgets/base",
            "overflow": null,
            "_model_module_version": "1.2.0",
            "_view_count": null,
            "flex_flow": null,
            "width": null,
            "min_width": null,
            "border": null,
            "align_items": null,
            "bottom": null,
            "_model_module": "@jupyter-widgets/base",
            "top": null,
            "grid_column": null,
            "overflow_y": null,
            "overflow_x": null,
            "grid_auto_flow": null,
            "grid_area": null,
            "grid_template_columns": null,
            "flex": null,
            "_model_name": "LayoutModel",
            "justify_items": null,
            "grid_row": null,
            "max_height": null,
            "align_content": null,
            "visibility": null,
            "align_self": null,
            "height": null,
            "min_height": null,
            "padding": null,
            "grid_auto_rows": null,
            "grid_gap": null,
            "max_width": null,
            "order": null,
            "_view_module_version": "1.2.0",
            "grid_template_areas": null,
            "object_position": null,
            "object_fit": null,
            "grid_auto_columns": null,
            "margin": null,
            "display": null,
            "left": null
          }
        },
        "8b9935211fd64051b6574e88462001a9": {
          "model_module": "@jupyter-widgets/controls",
          "model_name": "FloatProgressModel",
          "state": {
            "_view_name": "ProgressView",
            "style": "IPY_MODEL_6a0d972541ab430b83f480a8d0a10fc4",
            "_dom_classes": [],
            "description": "Downloading: 100%",
            "_model_name": "FloatProgressModel",
            "bar_style": "success",
            "max": 28,
            "_view_module": "@jupyter-widgets/controls",
            "_model_module_version": "1.5.0",
            "value": 28,
            "_view_count": null,
            "_view_module_version": "1.5.0",
            "orientation": "horizontal",
            "min": 0,
            "description_tooltip": null,
            "_model_module": "@jupyter-widgets/controls",
            "layout": "IPY_MODEL_dd2c281e419945a3a6fcd848bc095d0b"
          }
        },
        "24eadb5ac213457bbb6bfdc27f1fe7c6": {
          "model_module": "@jupyter-widgets/controls",
          "model_name": "HTMLModel",
          "state": {
            "_view_name": "HTMLView",
            "style": "IPY_MODEL_8948ca74475043cea4ebcae27481e85a",
            "_dom_classes": [],
            "description": "",
            "_model_name": "HTMLModel",
            "placeholder": "​",
            "_view_module": "@jupyter-widgets/controls",
            "_model_module_version": "1.5.0",
            "value": " 28.0/28.0 [00:00&lt;00:00, 93.9B/s]",
            "_view_count": null,
            "_view_module_version": "1.5.0",
            "description_tooltip": null,
            "_model_module": "@jupyter-widgets/controls",
            "layout": "IPY_MODEL_c0fc6c37b0cb4020bec2cd80d09d10a0"
          }
        },
        "6a0d972541ab430b83f480a8d0a10fc4": {
          "model_module": "@jupyter-widgets/controls",
          "model_name": "ProgressStyleModel",
          "state": {
            "_view_name": "StyleView",
            "_model_name": "ProgressStyleModel",
            "description_width": "initial",
            "_view_module": "@jupyter-widgets/base",
            "_model_module_version": "1.5.0",
            "_view_count": null,
            "_view_module_version": "1.2.0",
            "bar_color": null,
            "_model_module": "@jupyter-widgets/controls"
          }
        },
        "dd2c281e419945a3a6fcd848bc095d0b": {
          "model_module": "@jupyter-widgets/base",
          "model_name": "LayoutModel",
          "state": {
            "_view_name": "LayoutView",
            "grid_template_rows": null,
            "right": null,
            "justify_content": null,
            "_view_module": "@jupyter-widgets/base",
            "overflow": null,
            "_model_module_version": "1.2.0",
            "_view_count": null,
            "flex_flow": null,
            "width": null,
            "min_width": null,
            "border": null,
            "align_items": null,
            "bottom": null,
            "_model_module": "@jupyter-widgets/base",
            "top": null,
            "grid_column": null,
            "overflow_y": null,
            "overflow_x": null,
            "grid_auto_flow": null,
            "grid_area": null,
            "grid_template_columns": null,
            "flex": null,
            "_model_name": "LayoutModel",
            "justify_items": null,
            "grid_row": null,
            "max_height": null,
            "align_content": null,
            "visibility": null,
            "align_self": null,
            "height": null,
            "min_height": null,
            "padding": null,
            "grid_auto_rows": null,
            "grid_gap": null,
            "max_width": null,
            "order": null,
            "_view_module_version": "1.2.0",
            "grid_template_areas": null,
            "object_position": null,
            "object_fit": null,
            "grid_auto_columns": null,
            "margin": null,
            "display": null,
            "left": null
          }
        },
        "8948ca74475043cea4ebcae27481e85a": {
          "model_module": "@jupyter-widgets/controls",
          "model_name": "DescriptionStyleModel",
          "state": {
            "_view_name": "StyleView",
            "_model_name": "DescriptionStyleModel",
            "description_width": "",
            "_view_module": "@jupyter-widgets/base",
            "_model_module_version": "1.5.0",
            "_view_count": null,
            "_view_module_version": "1.2.0",
            "_model_module": "@jupyter-widgets/controls"
          }
        },
        "c0fc6c37b0cb4020bec2cd80d09d10a0": {
          "model_module": "@jupyter-widgets/base",
          "model_name": "LayoutModel",
          "state": {
            "_view_name": "LayoutView",
            "grid_template_rows": null,
            "right": null,
            "justify_content": null,
            "_view_module": "@jupyter-widgets/base",
            "overflow": null,
            "_model_module_version": "1.2.0",
            "_view_count": null,
            "flex_flow": null,
            "width": null,
            "min_width": null,
            "border": null,
            "align_items": null,
            "bottom": null,
            "_model_module": "@jupyter-widgets/base",
            "top": null,
            "grid_column": null,
            "overflow_y": null,
            "overflow_x": null,
            "grid_auto_flow": null,
            "grid_area": null,
            "grid_template_columns": null,
            "flex": null,
            "_model_name": "LayoutModel",
            "justify_items": null,
            "grid_row": null,
            "max_height": null,
            "align_content": null,
            "visibility": null,
            "align_self": null,
            "height": null,
            "min_height": null,
            "padding": null,
            "grid_auto_rows": null,
            "grid_gap": null,
            "max_width": null,
            "order": null,
            "_view_module_version": "1.2.0",
            "grid_template_areas": null,
            "object_position": null,
            "object_fit": null,
            "grid_auto_columns": null,
            "margin": null,
            "display": null,
            "left": null
          }
        },
        "8d35164139de41da8a048b0c3e5a2f5f": {
          "model_module": "@jupyter-widgets/controls",
          "model_name": "HBoxModel",
          "state": {
            "_view_name": "HBoxView",
            "_dom_classes": [],
            "_model_name": "HBoxModel",
            "_view_module": "@jupyter-widgets/controls",
            "_model_module_version": "1.5.0",
            "_view_count": null,
            "_view_module_version": "1.5.0",
            "box_style": "",
            "layout": "IPY_MODEL_51db6ce16d474fd4b909335e75fa284a",
            "_model_module": "@jupyter-widgets/controls",
            "children": [
              "IPY_MODEL_8c146bd2013d4493b99620621496d533",
              "IPY_MODEL_8cf7999fcfcd49b5be4718eb61aa67f7"
            ]
          }
        },
        "51db6ce16d474fd4b909335e75fa284a": {
          "model_module": "@jupyter-widgets/base",
          "model_name": "LayoutModel",
          "state": {
            "_view_name": "LayoutView",
            "grid_template_rows": null,
            "right": null,
            "justify_content": null,
            "_view_module": "@jupyter-widgets/base",
            "overflow": null,
            "_model_module_version": "1.2.0",
            "_view_count": null,
            "flex_flow": null,
            "width": null,
            "min_width": null,
            "border": null,
            "align_items": null,
            "bottom": null,
            "_model_module": "@jupyter-widgets/base",
            "top": null,
            "grid_column": null,
            "overflow_y": null,
            "overflow_x": null,
            "grid_auto_flow": null,
            "grid_area": null,
            "grid_template_columns": null,
            "flex": null,
            "_model_name": "LayoutModel",
            "justify_items": null,
            "grid_row": null,
            "max_height": null,
            "align_content": null,
            "visibility": null,
            "align_self": null,
            "height": null,
            "min_height": null,
            "padding": null,
            "grid_auto_rows": null,
            "grid_gap": null,
            "max_width": null,
            "order": null,
            "_view_module_version": "1.2.0",
            "grid_template_areas": null,
            "object_position": null,
            "object_fit": null,
            "grid_auto_columns": null,
            "margin": null,
            "display": null,
            "left": null
          }
        },
        "8c146bd2013d4493b99620621496d533": {
          "model_module": "@jupyter-widgets/controls",
          "model_name": "FloatProgressModel",
          "state": {
            "_view_name": "ProgressView",
            "style": "IPY_MODEL_ac0c5d5a92734e4bbf60011df4ad4f71",
            "_dom_classes": [],
            "description": "Downloading: 100%",
            "_model_name": "FloatProgressModel",
            "bar_style": "success",
            "max": 466062,
            "_view_module": "@jupyter-widgets/controls",
            "_model_module_version": "1.5.0",
            "value": 466062,
            "_view_count": null,
            "_view_module_version": "1.5.0",
            "orientation": "horizontal",
            "min": 0,
            "description_tooltip": null,
            "_model_module": "@jupyter-widgets/controls",
            "layout": "IPY_MODEL_05c23fb212b746eda9bfaae09ddf9278"
          }
        },
        "8cf7999fcfcd49b5be4718eb61aa67f7": {
          "model_module": "@jupyter-widgets/controls",
          "model_name": "HTMLModel",
          "state": {
            "_view_name": "HTMLView",
            "style": "IPY_MODEL_e3afad64a9cd4642ba7028e783b3f409",
            "_dom_classes": [],
            "description": "",
            "_model_name": "HTMLModel",
            "placeholder": "​",
            "_view_module": "@jupyter-widgets/controls",
            "_model_module_version": "1.5.0",
            "value": " 466k/466k [00:00&lt;00:00, 3.52MB/s]",
            "_view_count": null,
            "_view_module_version": "1.5.0",
            "description_tooltip": null,
            "_model_module": "@jupyter-widgets/controls",
            "layout": "IPY_MODEL_0a75a6a01ae44519bdba0416eb1bb07c"
          }
        },
        "ac0c5d5a92734e4bbf60011df4ad4f71": {
          "model_module": "@jupyter-widgets/controls",
          "model_name": "ProgressStyleModel",
          "state": {
            "_view_name": "StyleView",
            "_model_name": "ProgressStyleModel",
            "description_width": "initial",
            "_view_module": "@jupyter-widgets/base",
            "_model_module_version": "1.5.0",
            "_view_count": null,
            "_view_module_version": "1.2.0",
            "bar_color": null,
            "_model_module": "@jupyter-widgets/controls"
          }
        },
        "05c23fb212b746eda9bfaae09ddf9278": {
          "model_module": "@jupyter-widgets/base",
          "model_name": "LayoutModel",
          "state": {
            "_view_name": "LayoutView",
            "grid_template_rows": null,
            "right": null,
            "justify_content": null,
            "_view_module": "@jupyter-widgets/base",
            "overflow": null,
            "_model_module_version": "1.2.0",
            "_view_count": null,
            "flex_flow": null,
            "width": null,
            "min_width": null,
            "border": null,
            "align_items": null,
            "bottom": null,
            "_model_module": "@jupyter-widgets/base",
            "top": null,
            "grid_column": null,
            "overflow_y": null,
            "overflow_x": null,
            "grid_auto_flow": null,
            "grid_area": null,
            "grid_template_columns": null,
            "flex": null,
            "_model_name": "LayoutModel",
            "justify_items": null,
            "grid_row": null,
            "max_height": null,
            "align_content": null,
            "visibility": null,
            "align_self": null,
            "height": null,
            "min_height": null,
            "padding": null,
            "grid_auto_rows": null,
            "grid_gap": null,
            "max_width": null,
            "order": null,
            "_view_module_version": "1.2.0",
            "grid_template_areas": null,
            "object_position": null,
            "object_fit": null,
            "grid_auto_columns": null,
            "margin": null,
            "display": null,
            "left": null
          }
        },
        "e3afad64a9cd4642ba7028e783b3f409": {
          "model_module": "@jupyter-widgets/controls",
          "model_name": "DescriptionStyleModel",
          "state": {
            "_view_name": "StyleView",
            "_model_name": "DescriptionStyleModel",
            "description_width": "",
            "_view_module": "@jupyter-widgets/base",
            "_model_module_version": "1.5.0",
            "_view_count": null,
            "_view_module_version": "1.2.0",
            "_model_module": "@jupyter-widgets/controls"
          }
        },
        "0a75a6a01ae44519bdba0416eb1bb07c": {
          "model_module": "@jupyter-widgets/base",
          "model_name": "LayoutModel",
          "state": {
            "_view_name": "LayoutView",
            "grid_template_rows": null,
            "right": null,
            "justify_content": null,
            "_view_module": "@jupyter-widgets/base",
            "overflow": null,
            "_model_module_version": "1.2.0",
            "_view_count": null,
            "flex_flow": null,
            "width": null,
            "min_width": null,
            "border": null,
            "align_items": null,
            "bottom": null,
            "_model_module": "@jupyter-widgets/base",
            "top": null,
            "grid_column": null,
            "overflow_y": null,
            "overflow_x": null,
            "grid_auto_flow": null,
            "grid_area": null,
            "grid_template_columns": null,
            "flex": null,
            "_model_name": "LayoutModel",
            "justify_items": null,
            "grid_row": null,
            "max_height": null,
            "align_content": null,
            "visibility": null,
            "align_self": null,
            "height": null,
            "min_height": null,
            "padding": null,
            "grid_auto_rows": null,
            "grid_gap": null,
            "max_width": null,
            "order": null,
            "_view_module_version": "1.2.0",
            "grid_template_areas": null,
            "object_position": null,
            "object_fit": null,
            "grid_auto_columns": null,
            "margin": null,
            "display": null,
            "left": null
          }
        }
      }
    }
  },
  "cells": [
    {
      "cell_type": "markdown",
      "metadata": {
        "id": "view-in-github",
        "colab_type": "text"
      },
      "source": [
        "<a href=\"https://colab.research.google.com/github/yichong96/AI_Clinician/blob/master/BERT_Extractive_Summ.ipynb\" target=\"_parent\"><img src=\"https://colab.research.google.com/assets/colab-badge.svg\" alt=\"Open In Colab\"/></a>"
      ]
    },
    {
      "cell_type": "code",
      "metadata": {
        "id": "Rvhqr11mEt-K"
      },
      "source": [
        ""
      ],
      "execution_count": null,
      "outputs": []
    },
    {
      "cell_type": "code",
      "metadata": {
        "colab": {
          "base_uri": "https://localhost:8080/"
        },
        "id": "dXcvD-vl2-wC",
        "outputId": "0f8370fc-c890-4292-eb01-e8454d1a301b"
      },
      "source": [
        "pip install transformers"
      ],
      "execution_count": 1,
      "outputs": [
        {
          "output_type": "stream",
          "text": [
            "Collecting transformers\n",
            "\u001b[?25l  Downloading https://files.pythonhosted.org/packages/2c/d8/5144b0712f7f82229a8da5983a8fbb8d30cec5fbd5f8d12ffe1854dcea67/transformers-4.4.1-py3-none-any.whl (2.1MB)\n",
            "\u001b[K     |████████████████████████████████| 2.1MB 5.8MB/s \n",
            "\u001b[?25hRequirement already satisfied: filelock in /usr/local/lib/python3.7/dist-packages (from transformers) (3.0.12)\n",
            "Collecting tokenizers<0.11,>=0.10.1\n",
            "\u001b[?25l  Downloading https://files.pythonhosted.org/packages/71/23/2ddc317b2121117bf34dd00f5b0de194158f2a44ee2bf5e47c7166878a97/tokenizers-0.10.1-cp37-cp37m-manylinux2010_x86_64.whl (3.2MB)\n",
            "\u001b[K     |████████████████████████████████| 3.2MB 20.0MB/s \n",
            "\u001b[?25hCollecting sacremoses\n",
            "\u001b[?25l  Downloading https://files.pythonhosted.org/packages/7d/34/09d19aff26edcc8eb2a01bed8e98f13a1537005d31e95233fd48216eed10/sacremoses-0.0.43.tar.gz (883kB)\n",
            "\u001b[K     |████████████████████████████████| 890kB 41.8MB/s \n",
            "\u001b[?25hRequirement already satisfied: regex!=2019.12.17 in /usr/local/lib/python3.7/dist-packages (from transformers) (2019.12.20)\n",
            "Requirement already satisfied: tqdm>=4.27 in /usr/local/lib/python3.7/dist-packages (from transformers) (4.41.1)\n",
            "Requirement already satisfied: numpy>=1.17 in /usr/local/lib/python3.7/dist-packages (from transformers) (1.19.5)\n",
            "Requirement already satisfied: importlib-metadata; python_version < \"3.8\" in /usr/local/lib/python3.7/dist-packages (from transformers) (3.7.2)\n",
            "Requirement already satisfied: requests in /usr/local/lib/python3.7/dist-packages (from transformers) (2.23.0)\n",
            "Requirement already satisfied: packaging in /usr/local/lib/python3.7/dist-packages (from transformers) (20.9)\n",
            "Requirement already satisfied: six in /usr/local/lib/python3.7/dist-packages (from sacremoses->transformers) (1.15.0)\n",
            "Requirement already satisfied: click in /usr/local/lib/python3.7/dist-packages (from sacremoses->transformers) (7.1.2)\n",
            "Requirement already satisfied: joblib in /usr/local/lib/python3.7/dist-packages (from sacremoses->transformers) (1.0.1)\n",
            "Requirement already satisfied: zipp>=0.5 in /usr/local/lib/python3.7/dist-packages (from importlib-metadata; python_version < \"3.8\"->transformers) (3.4.1)\n",
            "Requirement already satisfied: typing-extensions>=3.6.4; python_version < \"3.8\" in /usr/local/lib/python3.7/dist-packages (from importlib-metadata; python_version < \"3.8\"->transformers) (3.7.4.3)\n",
            "Requirement already satisfied: idna<3,>=2.5 in /usr/local/lib/python3.7/dist-packages (from requests->transformers) (2.10)\n",
            "Requirement already satisfied: chardet<4,>=3.0.2 in /usr/local/lib/python3.7/dist-packages (from requests->transformers) (3.0.4)\n",
            "Requirement already satisfied: urllib3!=1.25.0,!=1.25.1,<1.26,>=1.21.1 in /usr/local/lib/python3.7/dist-packages (from requests->transformers) (1.24.3)\n",
            "Requirement already satisfied: certifi>=2017.4.17 in /usr/local/lib/python3.7/dist-packages (from requests->transformers) (2020.12.5)\n",
            "Requirement already satisfied: pyparsing>=2.0.2 in /usr/local/lib/python3.7/dist-packages (from packaging->transformers) (2.4.7)\n",
            "Building wheels for collected packages: sacremoses\n",
            "  Building wheel for sacremoses (setup.py) ... \u001b[?25l\u001b[?25hdone\n",
            "  Created wheel for sacremoses: filename=sacremoses-0.0.43-cp37-none-any.whl size=893262 sha256=23c43dc66aa7cc1fed1be6f9de5dbf120ac8a1d38fad94a62779a88180d4c531\n",
            "  Stored in directory: /root/.cache/pip/wheels/29/3c/fd/7ce5c3f0666dab31a50123635e6fb5e19ceb42ce38d4e58f45\n",
            "Successfully built sacremoses\n",
            "Installing collected packages: tokenizers, sacremoses, transformers\n",
            "Successfully installed sacremoses-0.0.43 tokenizers-0.10.1 transformers-4.4.1\n"
          ],
          "name": "stdout"
        }
      ]
    },
    {
      "cell_type": "code",
      "metadata": {
        "id": "XLCICQXg3Dys"
      },
      "source": [
        "with open('/content/example1.txt', 'r') as f:\n",
        "  text = f.read().strip() # contains the whole TED talk without line spaces"
      ],
      "execution_count": 17,
      "outputs": []
    },
    {
      "cell_type": "code",
      "metadata": {
        "colab": {
          "base_uri": "https://localhost:8080/"
        },
        "id": "iaCE3Jp-3qMe",
        "outputId": "e77edbc9-c6de-4543-ad57-4fc03af213be"
      },
      "source": [
        "import nltk\n",
        "nltk.download('punkt')\n",
        "from nltk.tokenize import sent_tokenize"
      ],
      "execution_count": 22,
      "outputs": [
        {
          "output_type": "stream",
          "text": [
            "[nltk_data] Downloading package punkt to /root/nltk_data...\n",
            "[nltk_data]   Unzipping tokenizers/punkt.zip.\n"
          ],
          "name": "stdout"
        }
      ]
    },
    {
      "cell_type": "code",
      "metadata": {
        "id": "X_0XsslV3qvQ"
      },
      "source": [
        "sentences = sent_tokenize(text)"
      ],
      "execution_count": 23,
      "outputs": []
    },
    {
      "cell_type": "code",
      "metadata": {
        "colab": {
          "base_uri": "https://localhost:8080/"
        },
        "id": "J2nxdW3G420U",
        "outputId": "659adc0c-03ef-4fbc-84d4-cbede0ddbc3e"
      },
      "source": [
        "sentences"
      ],
      "execution_count": 24,
      "outputs": [
        {
          "output_type": "execute_result",
          "data": {
            "text/plain": [
              "[\"I've spent the last couple of years traveling around the world giving talks to big corporations and little bitty start-ups and lots of leadership teams and women's groups, and what I've been talking to people about, I've been trying really hard to convince people that we can change the way we work.But every time I do a talk, somebody comes backstage or follows me offstage and says, You know, I'm so inspired by what you say.\",\n",
              " \"It's so great, it makes so much sense.\",\n",
              " \"But we can't.\",\n",
              " \"We can't because we're regulated.\",\n",
              " \"We can't because our CFO says we can't do it.\",\n",
              " \"We can't because we're in Europe.\",\n",
              " \"“We can’t because we’re a service industry.” We can't because we're a nonprofit.\",\n",
              " 'And then last year came the pandemic.',\n",
              " 'And the pandemic changed everything all over the world.Service people started realizing that they had to suit up and wear masks and take temperatures and wash their hands.',\n",
              " 'We had to start standing six feet apart in lines.',\n",
              " 'We started working from home.',\n",
              " 'We started working virtually.',\n",
              " 'And we started learning all kinds of things because we had to.',\n",
              " \"All that muscle around innovation and flexibility and creativity that we didn't think we had, we had all along.\",\n",
              " 'And we now have realized that we can.So what have we learned?',\n",
              " 'I mean, what did we learn right away?',\n",
              " \"First of all, we learned we're not family.\",\n",
              " 'The family is the toddler walking around behind you in the Zoom call with the pet.',\n",
              " 'The family is somebody needing their diaper changed.',\n",
              " \"The family is making sure you're taking care of your mom.\",\n",
              " \"That's your family.\",\n",
              " 'This is your team.',\n",
              " \"And we've also learned that that separation between family and work has become this balancing act.\",\n",
              " \"And that when we used to say, Well, this is my work home and this is my family home, and those are two completely different things, for many of us, it's exactly the same thing.\",\n",
              " \"You're no longer at home and at work.\",\n",
              " \"For many of us, work is at home and the home is -- and it's confusing, and it's creating a whole different level of complexity and coordination so that we understand that it's easier actually to work when we can separate the work that we do as a team from the work that we do in our family.Furthermore, in order to be able to do all that, we have to recognize that we're all adults.\",\n",
              " \"And here's the deal about adults.\",\n",
              " 'Adults have responsibilities, adults have obligations.',\n",
              " 'Adults have things that they have to commit to.',\n",
              " 'And do you know that every single person that works for you, from the shop floor to the executive suite, is a grown-up?',\n",
              " \"But we have been operating as if they aren't.\",\n",
              " 'We operate as if only the smart adults are the people who are at the C Suite.',\n",
              " 'And as we move through the organization, everybody sort of gets a little dumbed down and the rules get a lot stricter and we have to have more control.',\n",
              " \"And the truth is, everybody's a grown-up, we can see it now.\",\n",
              " 'Everybody has all of these things to figure out and coordinate.',\n",
              " \"And so now we're expecting from people adult behavior.\",\n",
              " \"We're now focusing on the results that matter, not the work.\",\n",
              " \"And the way we track it now is we don't walk by and see who's working.\",\n",
              " 'We pay attention to what people are doing.',\n",
              " \"And I think that that's always been the best metric.And you know what?\",\n",
              " 'For the first time in my life, the concept of best practices is out the window.',\n",
              " 'And you know what?',\n",
              " \"We don't care what Google's doing because we're not Google.\",\n",
              " \"We don't care what some other company is doing.\",\n",
              " \"Nobody's doing it best.\",\n",
              " \"We're all figuring it out as we go along and we're figuring it out for our organizations in our teams at this time.\",\n",
              " \"So in order for people to deliver the right results, in order for people's hard work to matter, it has to be in the context of what success looks like for your organization.So if we start to think about context, it's really important that we think about how we teach that.\",\n",
              " \"If we can teach everybody in the company how to read a profit and loss statement, if we can teach them what the different teams do, and what they're setting out to accomplish, then people within their own small teams, and within themselves, can figure out what excellence looks like for them.\",\n",
              " \"And so then we can start operating relatively independently as a whole organization because we're all moving in the same direction, trying to do the same thing.04:47And there's a really critically important part of making that work, and that's communication.\",\n",
              " 'And everything about communication has changed.',\n",
              " 'We tend to think that communication is this waterfall from the top to the bottom.',\n",
              " \"The executives would tell somebody and the next level would tell somebody and we'd go all the way down to the shop floor and everybody would understand what's going on.\",\n",
              " \"Well, it may not have worked that well then, but it certainly doesn't work that well now.\",\n",
              " \"So now we have to recognize it's a different heartbeat.\",\n",
              " 'What has it been before and what should it be now?',\n",
              " 'How do we make sure that the messages are clear and consistent?',\n",
              " \"Because that's how people operate.\",\n",
              " \"That's how those adults who get the freedom and the responsibility to produce great results operate best is when they understand what they need to know in order to make the best decisions.\",\n",
              " 'So that communication, that skill around being a great communicator is something that each of us needs to get better at.One of the things we have to do is think about what the right discipline is for that.',\n",
              " \"If you used to communicate to your team by walking by and asking how they're doing or if they had heard something, you're going to have to schedule that now, it's going to have to have discipline.\",\n",
              " \"We've got to check in with the people on the shop floor to make sure they're hearing what they need to hear because it's not going to automatically happen.One of the ideas I have is just jot down at the end of every day a sentence of what worked and what didn't work.\",\n",
              " \"And you don't have to look at it for a month.\",\n",
              " 'But when you look back, over a month, you want to look for, Wow, that was surprising.',\n",
              " \"I didn’t really think that would be as effective as it is.” Or maybe it would be, like, We keep trying to have this in-person meeting in Zoom, and it turns out that there's 14 people on the call and only two of them are talking.\",\n",
              " \"Maybe it's an email.\",\n",
              " \"So we have to rethink all of the ways, not just the work we're doing, but the ways we're doing it.So now I'm starting to hear a lot of nostalgia around the way it used to be.\",\n",
              " \"There are things we aren't doing now that don't matter.\",\n",
              " \"Maybe we don't need to go back for five levels of approval.\",\n",
              " \"Maybe we don't need to go back and do that annual performance review.\",\n",
              " \"Maybe we don't need to do a whole bunch of things that were part of the way we do business that just aren't making a difference.\",\n",
              " 'You know what?',\n",
              " \"The way we used to do it not only is not the way of the future, but we're discovering so many wonderful things right now.\",\n",
              " \"Let's not lose it.\",\n",
              " \"We want to create a new organization, new workforce, that's excited about taking all of the things that we've learned using that muscle, going forward.One of the most important things that we can do is realize the things that we aren't doing now.\",\n",
              " \"The stuff that we've stopped doing and not go back and do it again.\",\n",
              " \"What if we don't go back?\",\n",
              " 'What if we go forward and rethink the way we work?Thank you.']"
            ]
          },
          "metadata": {
            "tags": []
          },
          "execution_count": 24
        }
      ]
    },
    {
      "cell_type": "code",
      "metadata": {
        "colab": {
          "base_uri": "https://localhost:8080/",
          "height": 262,
          "referenced_widgets": [
            "182d644a4b7d4d8bb22603e18febdf05",
            "906aec5ff6a14a61b217639600eb60ff",
            "ca997771d85a4dc08cbe33ccc5889aaa",
            "3067439788554f80a2c59edb784d7906",
            "52f57b4f0cbd43c19e89634328935fa8",
            "1983ecb2de9c4c2290a66833e6f848bf",
            "e6f530aa009749efa502a95bdf320cc1",
            "54773f5369f946a0b93e4b2c040cef64",
            "e3cbd3410838406f873a3d32d27df457",
            "d1ac4320a71c4e45adc1df7a7f88f760",
            "3ff456495eda4835a1b3187ca9df7a6b",
            "0c1318408fe04e0d8c168dbf54e49117",
            "0d7793ccba57450d84afc966daa712de",
            "e5119016486b466bbbbb0bc96d870b7f",
            "d0d0a934843e473684f2ba9965dca2b4",
            "3c105a693dc642379cdc286b101797d8",
            "b0709c2f89a44d8797558bdc1b565bd4",
            "76e4ca612ec0446a88696e1901dcdaa8",
            "285fc622a02d47afbb659faa83706fb8",
            "7a3872fc71d44d8498f8ad0895aa189c",
            "97c5fb010709448fa61f7c1ce0fa584f",
            "e30bae1ede804e19b1636eedc4bd8eef",
            "fbbe4572f8f74284a788c3860cf354c7",
            "8e46ab856a864bd7b6d2714f7f3cbe95",
            "6ee66be8df924b80bce0865e8016c4ea",
            "88ab205e41a647e2afb4206f3d711e8f",
            "8b9935211fd64051b6574e88462001a9",
            "24eadb5ac213457bbb6bfdc27f1fe7c6",
            "6a0d972541ab430b83f480a8d0a10fc4",
            "dd2c281e419945a3a6fcd848bc095d0b",
            "8948ca74475043cea4ebcae27481e85a",
            "c0fc6c37b0cb4020bec2cd80d09d10a0",
            "8d35164139de41da8a048b0c3e5a2f5f",
            "51db6ce16d474fd4b909335e75fa284a",
            "8c146bd2013d4493b99620621496d533",
            "8cf7999fcfcd49b5be4718eb61aa67f7",
            "ac0c5d5a92734e4bbf60011df4ad4f71",
            "05c23fb212b746eda9bfaae09ddf9278",
            "e3afad64a9cd4642ba7028e783b3f409",
            "0a75a6a01ae44519bdba0416eb1bb07c"
          ]
        },
        "id": "bQeDAfse6jyS",
        "outputId": "fb45f4ef-e2bf-486d-a165-3981d1abe071"
      },
      "source": [
        "# load BERT model\n",
        "from transformers import BertModel, BertTokenizer\n",
        "model = BertModel.from_pretrained(\"bert-base-uncased\")\n",
        "tokenizer = BertTokenizer.from_pretrained(\"bert-base-uncased\")"
      ],
      "execution_count": 25,
      "outputs": [
        {
          "output_type": "display_data",
          "data": {
            "application/vnd.jupyter.widget-view+json": {
              "model_id": "182d644a4b7d4d8bb22603e18febdf05",
              "version_minor": 0,
              "version_major": 2
            },
            "text/plain": [
              "HBox(children=(FloatProgress(value=0.0, description='Downloading', max=433.0, style=ProgressStyle(description_…"
            ]
          },
          "metadata": {
            "tags": []
          }
        },
        {
          "output_type": "stream",
          "text": [
            "\n"
          ],
          "name": "stdout"
        },
        {
          "output_type": "display_data",
          "data": {
            "application/vnd.jupyter.widget-view+json": {
              "model_id": "e3cbd3410838406f873a3d32d27df457",
              "version_minor": 0,
              "version_major": 2
            },
            "text/plain": [
              "HBox(children=(FloatProgress(value=0.0, description='Downloading', max=440473133.0, style=ProgressStyle(descri…"
            ]
          },
          "metadata": {
            "tags": []
          }
        },
        {
          "output_type": "stream",
          "text": [
            "\n"
          ],
          "name": "stdout"
        },
        {
          "output_type": "display_data",
          "data": {
            "application/vnd.jupyter.widget-view+json": {
              "model_id": "b0709c2f89a44d8797558bdc1b565bd4",
              "version_minor": 0,
              "version_major": 2
            },
            "text/plain": [
              "HBox(children=(FloatProgress(value=0.0, description='Downloading', max=231508.0, style=ProgressStyle(descripti…"
            ]
          },
          "metadata": {
            "tags": []
          }
        },
        {
          "output_type": "stream",
          "text": [
            "\n"
          ],
          "name": "stdout"
        },
        {
          "output_type": "display_data",
          "data": {
            "application/vnd.jupyter.widget-view+json": {
              "model_id": "6ee66be8df924b80bce0865e8016c4ea",
              "version_minor": 0,
              "version_major": 2
            },
            "text/plain": [
              "HBox(children=(FloatProgress(value=0.0, description='Downloading', max=28.0, style=ProgressStyle(description_w…"
            ]
          },
          "metadata": {
            "tags": []
          }
        },
        {
          "output_type": "stream",
          "text": [
            "\n"
          ],
          "name": "stdout"
        },
        {
          "output_type": "display_data",
          "data": {
            "application/vnd.jupyter.widget-view+json": {
              "model_id": "8d35164139de41da8a048b0c3e5a2f5f",
              "version_minor": 0,
              "version_major": 2
            },
            "text/plain": [
              "HBox(children=(FloatProgress(value=0.0, description='Downloading', max=466062.0, style=ProgressStyle(descripti…"
            ]
          },
          "metadata": {
            "tags": []
          }
        },
        {
          "output_type": "stream",
          "text": [
            "\n"
          ],
          "name": "stdout"
        }
      ]
    },
    {
      "cell_type": "code",
      "metadata": {
        "colab": {
          "base_uri": "https://localhost:8080/"
        },
        "id": "S7Y32GvF7DzO",
        "outputId": "9d432860-e89d-49c7-8339-994eec550843"
      },
      "source": [
        "sentence_encodings = tokenizer(sentences, truncation=True, padding=True, return_tensors='pt')\n",
        "print(sentence_encodings['input_ids'][0])"
      ],
      "execution_count": 31,
      "outputs": [
        {
          "output_type": "stream",
          "text": [
            "tensor([  101,  1045,  1005,  2310,  2985,  1996,  2197,  3232,  1997,  2086,\n",
            "         7118,  2105,  1996,  2088,  3228,  7566,  2000,  2502, 11578,  1998,\n",
            "         2210,  2978,  3723,  2707,  1011, 11139,  1998,  7167,  1997,  4105,\n",
            "         2780,  1998,  2308,  1005,  1055,  2967,  1010,  1998,  2054,  1045,\n",
            "         1005,  2310,  2042,  3331,  2000,  2111,  2055,  1010,  1045,  1005,\n",
            "         2310,  2042,  2667,  2428,  2524,  2000,  8054,  2111,  2008,  2057,\n",
            "         2064,  2689,  1996,  2126,  2057,  2147,  1012,  2021,  2296,  2051,\n",
            "         1045,  2079,  1037,  2831,  1010,  8307,  3310, 20212,  2030,  4076,\n",
            "         2033, 12446, 26702,  1998,  2758,  1010,  2017,  2113,  1010,  1045,\n",
            "         1005,  1049,  2061,  4427,  2011,  2054,  2017,  2360,  1012,   102])\n"
          ],
          "name": "stdout"
        }
      ]
    },
    {
      "cell_type": "code",
      "metadata": {
        "id": "js8_VFqx7wEG"
      },
      "source": [
        "outputs = model(**sentence_encodings, output_hidden_states = True)"
      ],
      "execution_count": 33,
      "outputs": []
    },
    {
      "cell_type": "code",
      "metadata": {
        "colab": {
          "base_uri": "https://localhost:8080/"
        },
        "id": "ASCKqM628XzA",
        "outputId": "339deaea-47a9-4d87-dfda-0983053ad43e"
      },
      "source": [
        "print(outputs.hidden_states[0].shape)\n",
        "print(outputs.pooler_output.shape)\n",
        "print(len(outputs.hidden_states))\n",
        "print(outputs.hidden_states[0].shape)"
      ],
      "execution_count": 49,
      "outputs": [
        {
          "output_type": "stream",
          "text": [
            "torch.Size([77, 100, 768])\n",
            "torch.Size([77, 768])\n",
            "13\n",
            "torch.Size([77, 100, 768])\n"
          ],
          "name": "stdout"
        }
      ]
    },
    {
      "cell_type": "code",
      "metadata": {
        "colab": {
          "base_uri": "https://localhost:8080/"
        },
        "id": "R0G1UxYV9FOF",
        "outputId": "99c484a6-5552-491a-84e6-73718187e245"
      },
      "source": [
        "# Use pooler output shape for clustering (for now)"
      ],
      "execution_count": 48,
      "outputs": [
        {
          "output_type": "stream",
          "text": [
            "13\n"
          ],
          "name": "stdout"
        }
      ]
    },
    {
      "cell_type": "code",
      "metadata": {
        "id": "naBsTZGx95hs"
      },
      "source": [
        "import numpy as np\n",
        "from sklearn.cluster import KMeans\n",
        "k = 20\n",
        "sentence_embeddings = outputs.pooler_output\n",
        "X = np.array(sentence_embeddings.detach().numpy())\n",
        "kmeans = KMeans(n_clusters=k, random_state=0).fit(X)"
      ],
      "execution_count": 69,
      "outputs": []
    },
    {
      "cell_type": "code",
      "metadata": {
        "colab": {
          "base_uri": "https://localhost:8080/"
        },
        "id": "RJ-4uoyf-7M2",
        "outputId": "f3f8201b-da6c-4064-ddd0-bd1374b1c55d"
      },
      "source": [
        "from sklearn.neighbors import NearestNeighbors\n",
        "labels = kmeans.labels_\n",
        "cluster_centers = kmeans.cluster_centers_\n",
        "\n",
        "neigh = NearestNeighbors(n_neighbors=1)\n",
        "neigh.fit(sentence_embeddings.detach().numpy(), labels)"
      ],
      "execution_count": 70,
      "outputs": [
        {
          "output_type": "execute_result",
          "data": {
            "text/plain": [
              "NearestNeighbors(algorithm='auto', leaf_size=30, metric='minkowski',\n",
              "                 metric_params=None, n_jobs=None, n_neighbors=1, p=2,\n",
              "                 radius=1.0)"
            ]
          },
          "metadata": {
            "tags": []
          },
          "execution_count": 70
        }
      ]
    },
    {
      "cell_type": "code",
      "metadata": {
        "id": "6Vm93msL_K4h"
      },
      "source": [
        "sentence_indices = []\n",
        "neigh, index = neigh.kneighbors(cluster_centers)"
      ],
      "execution_count": 71,
      "outputs": []
    },
    {
      "cell_type": "code",
      "metadata": {
        "id": "FvSjWUsACdwK"
      },
      "source": [
        "index = index.flatten()"
      ],
      "execution_count": 72,
      "outputs": []
    },
    {
      "cell_type": "code",
      "metadata": {
        "id": "kikfqCrTCsSq"
      },
      "source": [
        "index.sort()"
      ],
      "execution_count": 73,
      "outputs": []
    },
    {
      "cell_type": "code",
      "metadata": {
        "id": "viktjjsGC08R"
      },
      "source": [
        "summary = []\n",
        "for i in index:\n",
        "  summary.append(sentences[i])"
      ],
      "execution_count": 74,
      "outputs": []
    },
    {
      "cell_type": "code",
      "metadata": {
        "colab": {
          "base_uri": "https://localhost:8080/"
        },
        "id": "K6en5oKVC3Xa",
        "outputId": "70c614de-90de-41f1-a556-e3ffbf75cc6d"
      },
      "source": [
        "print(' '.join(summary))"
      ],
      "execution_count": 75,
      "outputs": [
        {
          "output_type": "stream",
          "text": [
            "We had to start standing six feet apart in lines. We started working virtually. And we started learning all kinds of things because we had to. The family is the toddler walking around behind you in the Zoom call with the pet. And that when we used to say, Well, this is my work home and this is my family home, and those are two completely different things, for many of us, it's exactly the same thing. For many of us, work is at home and the home is -- and it's confusing, and it's creating a whole different level of complexity and coordination so that we understand that it's easier actually to work when we can separate the work that we do as a team from the work that we do in our family.Furthermore, in order to be able to do all that, we have to recognize that we're all adults. We don't care what Google's doing because we're not Google. We don't care what some other company is doing. We're all figuring it out as we go along and we're figuring it out for our organizations in our teams at this time. So in order for people to deliver the right results, in order for people's hard work to matter, it has to be in the context of what success looks like for your organization.So if we start to think about context, it's really important that we think about how we teach that. And so then we can start operating relatively independently as a whole organization because we're all moving in the same direction, trying to do the same thing.04:47And there's a really critically important part of making that work, and that's communication. We tend to think that communication is this waterfall from the top to the bottom. Because that's how people operate. We've got to check in with the people on the shop floor to make sure they're hearing what they need to hear because it's not going to automatically happen.One of the ideas I have is just jot down at the end of every day a sentence of what worked and what didn't work. I didn’t really think that would be as effective as it is.” Or maybe it would be, like, We keep trying to have this in-person meeting in Zoom, and it turns out that there's 14 people on the call and only two of them are talking. Maybe it's an email. There are things we aren't doing now that don't matter. Maybe we don't need to go back for five levels of approval. Maybe we don't need to go back and do that annual performance review. What if we don't go back?\n"
          ],
          "name": "stdout"
        }
      ]
    },
    {
      "cell_type": "code",
      "metadata": {
        "id": "U2eGDm1oDIpi"
      },
      "source": [
        ""
      ],
      "execution_count": null,
      "outputs": []
    }
  ]
}